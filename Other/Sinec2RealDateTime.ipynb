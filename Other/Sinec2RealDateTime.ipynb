{
 "cells": [
  {
   "cell_type": "code",
   "execution_count": 1,
   "metadata": {},
   "outputs": [],
   "source": [
    "from datetime import datetime, timedelta"
   ]
  },
  {
   "cell_type": "code",
   "execution_count": 2,
   "metadata": {},
   "outputs": [],
   "source": [
    "def hex_sinec_to_datetime(hex_sinec_date, hex_sinec_time):\n",
    "    # Convert hexadecimal to decimal\n",
    "    sinec_date_decimal = int(hex_sinec_date, 16)\n",
    "    sinec_time_decimal = int(hex_sinec_time, 16)\n",
    "    \n",
    "    # Siemens SINEC time is in milliseconds since January 1, 1984\n",
    "    base_date = datetime(1984, 1, 1)\n",
    "    \n",
    "    # Convert date to seconds\n",
    "    date_seconds = sinec_date_decimal * 24 * 3600\n",
    "    \n",
    "    # Convert time milliseconds to seconds\n",
    "    time_seconds = sinec_time_decimal / 1000\n",
    "    \n",
    "    # Calculate total seconds\n",
    "    total_seconds = date_seconds + time_seconds\n",
    "    \n",
    "    # Calculate the real date-time by adding seconds to the base date\n",
    "    real_datetime = base_date + timedelta(seconds = total_seconds)\n",
    "    \n",
    "    return real_datetime"
   ]
  },
  {
   "cell_type": "code",
   "execution_count": 11,
   "metadata": {},
   "outputs": [],
   "source": [
    "hex_sinec_date = \"3928\""
   ]
  },
  {
   "cell_type": "code",
   "execution_count": 12,
   "metadata": {},
   "outputs": [],
   "source": [
    "hex_sinec_time = \"0353f978 \""
   ]
  },
  {
   "cell_type": "code",
   "execution_count": 13,
   "metadata": {},
   "outputs": [],
   "source": [
    "result_datetime = hex_sinec_to_datetime(hex_sinec_date, hex_sinec_time)"
   ]
  },
  {
   "cell_type": "code",
   "execution_count": 14,
   "metadata": {},
   "outputs": [
    {
     "name": "stdout",
     "output_type": "stream",
     "text": [
      "Real Date-Time: 2024-01-23 15:30:35\n"
     ]
    }
   ],
   "source": [
    "print(\"Real Date-Time:\", result_datetime)"
   ]
  },
  {
   "cell_type": "code",
   "execution_count": null,
   "metadata": {},
   "outputs": [],
   "source": []
  }
 ],
 "metadata": {
  "kernelspec": {
   "display_name": "Python 3",
   "language": "python",
   "name": "python3"
  },
  "language_info": {
   "codemirror_mode": {
    "name": "ipython",
    "version": 3
   },
   "file_extension": ".py",
   "mimetype": "text/x-python",
   "name": "python",
   "nbconvert_exporter": "python",
   "pygments_lexer": "ipython3",
   "version": "3.7.6"
  }
 },
 "nbformat": 4,
 "nbformat_minor": 4
}
