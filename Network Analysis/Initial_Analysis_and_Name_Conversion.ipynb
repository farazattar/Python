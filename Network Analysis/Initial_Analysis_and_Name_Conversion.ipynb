{
 "cells": [
  {
   "cell_type": "markdown",
   "metadata": {},
   "source": [
    "# Initial Analysis of Network Logs"
   ]
  },
  {
   "cell_type": "markdown",
   "metadata": {},
   "source": [
    "Initial analysis of network logs provided by Wireshark and convert it into a CSV file with known hosts"
   ]
  },
  {
   "cell_type": "code",
   "execution_count": null,
   "metadata": {},
   "outputs": [],
   "source": [
    "# import the required libraries\n",
    "import os\n",
    "import pandas as pd"
   ]
  },
  {
   "cell_type": "code",
   "execution_count": null,
   "metadata": {},
   "outputs": [],
   "source": [
    "# change directory to parent folder\n",
    "os.chdir('D:\\Faraz\\Lan')\n",
    "# read the dataset\n",
    "data_mac_ip = pd.read_csv('mac-ip.csv')\n",
    "# change directory to parent folder\n",
    "os.chdir('D:\\Faraz\\Logs')\n",
    "# change directory to specified folder\n",
    "os.chdir('.')\n",
    "# read the dataset\n",
    "data = pd.read_csv('Sample_Plant_Bus_Before_Upgrade.csv')"
   ]
  },
  {
   "cell_type": "code",
   "execution_count": null,
   "metadata": {},
   "outputs": [],
   "source": [
    "# view the top results\n",
    "data.head()"
   ]
  },
  {
   "cell_type": "code",
   "execution_count": null,
   "metadata": {},
   "outputs": [],
   "source": [
    "# view the unique values of 'Source' column\n",
    "data['Source'].unique()"
   ]
  },
  {
   "cell_type": "code",
   "execution_count": null,
   "metadata": {},
   "outputs": [],
   "source": [
    "# count the number of unique sources\n",
    "unique_source = len(data['Source'].unique())"
   ]
  },
  {
   "cell_type": "code",
   "execution_count": null,
   "metadata": {},
   "outputs": [],
   "source": [
    "# view the unique values of 'Destination' column\n",
    "data['Destination'].unique()"
   ]
  },
  {
   "cell_type": "code",
   "execution_count": null,
   "metadata": {},
   "outputs": [],
   "source": [
    "# count the number of unique destinations\n",
    "unique_destination = len(data['Destination'].unique())"
   ]
  },
  {
   "cell_type": "code",
   "execution_count": null,
   "metadata": {},
   "outputs": [],
   "source": [
    "# view the top results\n",
    "data_mac_ip.head()"
   ]
  },
  {
   "cell_type": "code",
   "execution_count": null,
   "metadata": {},
   "outputs": [],
   "source": [
    "# remove the extra white spaces\n",
    "data_mac_ip['MAC Address'] = data_mac_ip['MAC Address'].str.strip()\n",
    "data_mac_ip['IP'] = data_mac_ip['IP'].str.strip()\n",
    "data_mac_ip.head()"
   ]
  },
  {
   "cell_type": "code",
   "execution_count": null,
   "metadata": {},
   "outputs": [],
   "source": [
    "# replace siemens nixdorf mac address pattern in data_mac_ip's new columns\n",
    "pattern = r'08:00:06:'\n",
    "replacement = 'SiemensN_'\n",
    "data_mac_ip['MAC Address'] = data_mac_ip['MAC Address'].str.replace(pattern, replacement)"
   ]
  },
  {
   "cell_type": "code",
   "execution_count": null,
   "metadata": {},
   "outputs": [],
   "source": [
    "# replace siemens mac address pattern in data_mac_ip's new columns\n",
    "pattern = r'00:1b:1b:'\n",
    "replacement = 'Siemens_'\n",
    "data_mac_ip['MAC Address'] = data_mac_ip['MAC Address'].str.replace(pattern, replacement)"
   ]
  },
  {
   "cell_type": "code",
   "execution_count": null,
   "metadata": {},
   "outputs": [],
   "source": [
    "# replace Hirschmann mac address pattern in data_mac_ip's new columns\n",
    "pattern = r'00:80:63:'\n",
    "replacement = 'RichardH_'\n",
    "data_mac_ip['MAC Address'] = data_mac_ip['MAC Address'].str.replace(pattern, replacement)"
   ]
  },
  {
   "cell_type": "code",
   "execution_count": null,
   "metadata": {},
   "outputs": [],
   "source": [
    "# replace Hirschmann Broadcast pattern in data_mac_ip's new columns\n",
    "pattern = r'01:80:c2:00:00:00'\n",
    "replacement = 'Spanning-tree-(for-bridges)_00'\n",
    "data_mac_ip['MAC Address'] = data_mac_ip['MAC Address'].str.replace(pattern, replacement)"
   ]
  },
  {
   "cell_type": "code",
   "execution_count": null,
   "metadata": {},
   "outputs": [],
   "source": [
    "# replace Siemens SINEC broadcast pattern in data_mac_ip's new columns\n",
    "pattern = r'09:00:06:01:ff:ef'\n",
    "replacement = 'SiemensN_01:ff:ef'\n",
    "data_mac_ip['MAC Address'] = data_mac_ip['MAC Address'].str.replace(pattern, replacement)"
   ]
  },
  {
   "cell_type": "code",
   "execution_count": null,
   "metadata": {},
   "outputs": [],
   "source": [
    "# replace Siemens SCALANCE broadcast pattern in data_mac_ip's new columns\n",
    "pattern = r'01:80:c2:00:00:0e'\n",
    "replacement = 'LLDP_Multicast'\n",
    "data_mac_ip['MAC Address'] = data_mac_ip['MAC Address'].str.replace(pattern, replacement)"
   ]
  },
  {
   "cell_type": "code",
   "execution_count": null,
   "metadata": {},
   "outputs": [],
   "source": [
    "# replace 3Com mac address pattern in data_mac_ip's new columns\n",
    "pattern = r'00:60:97:'\n",
    "replacement = '3Com_'\n",
    "data_mac_ip['MAC Address'] = data_mac_ip['MAC Address'].str.replace(pattern, replacement)"
   ]
  },
  {
   "cell_type": "code",
   "execution_count": null,
   "metadata": {},
   "outputs": [],
   "source": [
    "# replace 3com mac address pattern in data_mac_ip's new columns\n",
    "pattern = r'00:60:08:'\n",
    "replacement = '3com_'\n",
    "data_mac_ip['MAC Address'] = data_mac_ip['MAC Address'].str.replace(pattern, replacement)"
   ]
  },
  {
   "cell_type": "code",
   "execution_count": null,
   "metadata": {},
   "outputs": [],
   "source": [
    "# replace 3com3c90 mac address pattern in data_mac_ip's new columns\n",
    "pattern = r'00:50:04:'\n",
    "replacement = '3com3c90_'\n",
    "data_mac_ip['MAC Address'] = data_mac_ip['MAC Address'].str.replace(pattern, replacement)"
   ]
  },
  {
   "cell_type": "code",
   "execution_count": null,
   "metadata": {},
   "outputs": [],
   "source": [
    "# replace 3Com alternative mac address pattern in data_mac_ip's new columns\n",
    "pattern = r'00:a0:24:'\n",
    "replacement = '3Com_'\n",
    "data_mac_ip['MAC Address'] = data_mac_ip['MAC Address'].str.replace(pattern, replacement)"
   ]
  },
  {
   "cell_type": "code",
   "execution_count": null,
   "metadata": {},
   "outputs": [],
   "source": [
    "# replace CompalIn pattern in data_mac_ip's new columns\n",
    "pattern = r'9c:5a:44:'\n",
    "replacement = 'CompalIn_'\n",
    "data_mac_ip['MAC Address'] = data_mac_ip['MAC Address'].str.replace(pattern, replacement)"
   ]
  },
  {
   "cell_type": "code",
   "execution_count": null,
   "metadata": {},
   "outputs": [],
   "source": [
    "# replace IPv4mcast pattern in data_mac_ip's new columns\n",
    "pattern = r'01:00:5e:'\n",
    "replacement = 'IPv4mcast_'\n",
    "data_mac_ip['MAC Address'] = data_mac_ip['MAC Address'].str.replace(pattern, replacement)"
   ]
  },
  {
   "cell_type": "code",
   "execution_count": null,
   "metadata": {},
   "outputs": [],
   "source": [
    "# replace Tsurusak Network Adapter pattern in data_mac_ip's new columns\n",
    "pattern = r'00:11:0e:'\n",
    "replacement = 'Tsurusak_'\n",
    "data_mac_ip['MAC Address'] = data_mac_ip['MAC Address'].str.replace(pattern, replacement)"
   ]
  },
  {
   "cell_type": "code",
   "execution_count": null,
   "metadata": {},
   "outputs": [],
   "source": [
    "# create a dataframe for mac addresses and correspondent devices\n",
    "mac_device = data_mac_ip[['MAC Address', 'Device']]\n",
    "mac_device"
   ]
  },
  {
   "cell_type": "code",
   "execution_count": null,
   "metadata": {},
   "outputs": [],
   "source": [
    "# convert the pandas dataframe into a dictionary (using T {transpose} and .to_dict() method)\n",
    "mac_device_dict = mac_device.set_index('MAC Address').T.to_dict('list')"
   ]
  },
  {
   "cell_type": "code",
   "execution_count": null,
   "metadata": {},
   "outputs": [],
   "source": [
    "# show the type of the mac_device_dict\n",
    "type(mac_device_dict)"
   ]
  },
  {
   "cell_type": "code",
   "execution_count": null,
   "metadata": {},
   "outputs": [],
   "source": [
    "# display the mac_device_dict\n",
    "mac_device_dict"
   ]
  },
  {
   "cell_type": "code",
   "execution_count": null,
   "metadata": {},
   "outputs": [],
   "source": [
    "# create a dataframe for IPs and correspondent devices\n",
    "ip_device = data_mac_ip[['IP', 'Device']]\n",
    "ip_device"
   ]
  },
  {
   "cell_type": "code",
   "execution_count": null,
   "metadata": {},
   "outputs": [],
   "source": [
    "# convert the pandas dataframe into a dictionary (using T {transpose} and .to_dict() method)\n",
    "ip_device_dict = ip_device.set_index('IP').T.to_dict('list')"
   ]
  },
  {
   "cell_type": "code",
   "execution_count": null,
   "metadata": {},
   "outputs": [],
   "source": [
    "# show the type of the ip_device_dict\n",
    "type(ip_device_dict)"
   ]
  },
  {
   "cell_type": "code",
   "execution_count": null,
   "metadata": {},
   "outputs": [],
   "source": [
    "# display the ip_device_dict\n",
    "ip_device_dict"
   ]
  },
  {
   "cell_type": "code",
   "execution_count": null,
   "metadata": {},
   "outputs": [],
   "source": [
    "# add a column for host names of the mac address (using .map() method and a reference dictionary)\n",
    "data['Device_mac_Source'] = data['Source'].map(mac_device_dict)\n",
    "# remove the brackets\n",
    "data['Device_mac_Source'] = data['Device_mac_Source'].str[0]"
   ]
  },
  {
   "cell_type": "code",
   "execution_count": null,
   "metadata": {},
   "outputs": [],
   "source": [
    "# add a column for host names of the mac address (using .map() method and a reference dictionary)\n",
    "data['Device_mac_Destination'] = data['Destination'].map(mac_device_dict)\n",
    "# remove the brackets\n",
    "data['Device_mac_Destination'] = data['Device_mac_Destination'].str[0]"
   ]
  },
  {
   "cell_type": "code",
   "execution_count": null,
   "metadata": {},
   "outputs": [],
   "source": [
    "# view the top results\n",
    "data.head()"
   ]
  },
  {
   "cell_type": "code",
   "execution_count": null,
   "metadata": {},
   "outputs": [],
   "source": [
    "# add a column for host names of the IP address (using .map() method and a reference dictionary)\n",
    "data['Device_ip_Source'] = data['Source'].map(ip_device_dict)\n",
    "# remove the brackets\n",
    "data['Device_ip_Source'] = data['Device_ip_Source'].str[0]"
   ]
  },
  {
   "cell_type": "code",
   "execution_count": null,
   "metadata": {},
   "outputs": [],
   "source": [
    "# add a column for host names of the IP address (using .map() method and a reference dictionary)\n",
    "data['Device_ip_Destination'] = data['Destination'].map(ip_device_dict)\n",
    "# remove the brackets\n",
    "data['Device_ip_Destination'] = data['Device_ip_Destination'].str[0]"
   ]
  },
  {
   "cell_type": "code",
   "execution_count": null,
   "metadata": {},
   "outputs": [],
   "source": [
    "# view the top results\n",
    "data.head()"
   ]
  },
  {
   "cell_type": "code",
   "execution_count": null,
   "metadata": {},
   "outputs": [],
   "source": [
    "# Combine Devic_mac and Device_ip columns\n",
    "data['Device_Source'] = data['Device_mac_Source'].combine_first(data['Device_ip_Source'])"
   ]
  },
  {
   "cell_type": "code",
   "execution_count": null,
   "metadata": {},
   "outputs": [],
   "source": [
    "# Combine Devic_mac and Device_ip columns\n",
    "data['Device_Destination'] = data['Device_mac_Destination'].combine_first(data['Device_ip_Destination'])"
   ]
  },
  {
   "cell_type": "code",
   "execution_count": null,
   "metadata": {},
   "outputs": [],
   "source": [
    "# view the top results\n",
    "data.head()"
   ]
  },
  {
   "cell_type": "code",
   "execution_count": null,
   "metadata": {},
   "outputs": [],
   "source": [
    "# view the unique values of 'Device' column in data_aft\n",
    "data['Device_Source'].unique()"
   ]
  },
  {
   "cell_type": "code",
   "execution_count": null,
   "metadata": {},
   "outputs": [],
   "source": [
    "# count the number of unique sources\n",
    "recognized_source = len(data['Device_Source'].unique())\n",
    "if data['Device_Source'].isnull().values.any():\n",
    "    recognized_source -= 1"
   ]
  },
  {
   "cell_type": "code",
   "execution_count": null,
   "metadata": {},
   "outputs": [],
   "source": [
    "# view the unique values of 'Device' column in data_aft\n",
    "data['Device_Destination'].unique()"
   ]
  },
  {
   "cell_type": "code",
   "execution_count": null,
   "metadata": {},
   "outputs": [],
   "source": [
    "# count the number of unique sources\n",
    "recognized_destination = len(data['Device_Destination'].unique())\n",
    "if data['Device_Destination'].isnull().values.any():\n",
    "    recognized_destination -= 1"
   ]
  },
  {
   "cell_type": "code",
   "execution_count": null,
   "metadata": {},
   "outputs": [],
   "source": [
    "# select rows which contains nan values in specific columns\n",
    "data_not_recognized_sources = data[data['Device_Source'].isnull()]\n",
    "data_not_recognized_detinations = data[data['Device_Destination'].isnull()]"
   ]
  },
  {
   "cell_type": "code",
   "execution_count": null,
   "metadata": {},
   "outputs": [],
   "source": [
    "# count the number of unique hosts which not recognized (which have a nan value)\n",
    "not_recognized_source = len(data_not_recognized_sources['Source'].unique())\n",
    "not_recognized_detination = len(data_not_recognized_detinations['Destination'].unique())"
   ]
  },
  {
   "cell_type": "code",
   "execution_count": null,
   "metadata": {},
   "outputs": [],
   "source": [
    "# print the summary\n",
    "print('Unique sources = {}.'.format(unique_source))\n",
    "print('Unique destinations = {}.'.format(unique_destination))\n",
    "print('Recognized sources = {}.'.format(recognized_source))\n",
    "print('Recognized destinations = {}.'.format(recognized_destination))\n",
    "print('Not recognized sources = {}.'.format(not_recognized_source))\n",
    "print('Not recognized destinations = {}.'.format(not_recognized_detination))"
   ]
  },
  {
   "cell_type": "code",
   "execution_count": null,
   "metadata": {},
   "outputs": [],
   "source": [
    "# store the processed data frame into a csv file\n",
    "data.to_csv('data_processed.csv', sep = ',')"
   ]
  },
  {
   "cell_type": "code",
   "execution_count": null,
   "metadata": {},
   "outputs": [],
   "source": []
  }
 ],
 "metadata": {
  "kernelspec": {
   "display_name": "Python 3",
   "language": "python",
   "name": "python3"
  },
  "language_info": {
   "codemirror_mode": {
    "name": "ipython",
    "version": 3
   },
   "file_extension": ".py",
   "mimetype": "text/x-python",
   "name": "python",
   "nbconvert_exporter": "python",
   "pygments_lexer": "ipython3",
   "version": "3.7.6"
  }
 },
 "nbformat": 4,
 "nbformat_minor": 4
}
