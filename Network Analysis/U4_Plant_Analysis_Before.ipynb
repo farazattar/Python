{
 "cells": [
  {
   "cell_type": "code",
   "execution_count": null,
   "metadata": {},
   "outputs": [],
   "source": [
    "# import the required libraries\n",
    "import os\n",
    "import pandas as pd"
   ]
  },
  {
   "cell_type": "code",
   "execution_count": null,
   "metadata": {},
   "outputs": [],
   "source": [
    "# change directory to parent folder\n",
    "os.chdir('D:\\Faraz\\Lan')\n",
    "# read the dataset\n",
    "data_mac_ip = pd.read_csv('mac-ip.csv')\n",
    "# change directory to parent folder\n",
    "os.chdir('D:\\Faraz\\Logs')\n",
    "# change directory to specified folder\n",
    "os.chdir('Unit4_MapClock_Test(2024-02-07)')\n",
    "# read the dataset\n",
    "data_bef = pd.read_csv('Source_U4_Plant_Before.csv')"
   ]
  },
  {
   "cell_type": "code",
   "execution_count": null,
   "metadata": {},
   "outputs": [],
   "source": [
    "# view the top results\n",
    "data_bef.head()"
   ]
  },
  {
   "cell_type": "code",
   "execution_count": null,
   "metadata": {},
   "outputs": [],
   "source": [
    "# view the unique values of 'Source' column in data_bef\n",
    "data_bef['Source'].unique()"
   ]
  },
  {
   "cell_type": "code",
   "execution_count": null,
   "metadata": {},
   "outputs": [],
   "source": [
    "# count the number of unique sources\n",
    "len(data_bef['Source'].unique())"
   ]
  },
  {
   "cell_type": "code",
   "execution_count": null,
   "metadata": {},
   "outputs": [],
   "source": [
    "# view the top results\n",
    "data_mac_ip.head()"
   ]
  },
  {
   "cell_type": "code",
   "execution_count": null,
   "metadata": {},
   "outputs": [],
   "source": [
    "# select just two columns\n",
    "data_mac_ip[['MAC Address','Device']]"
   ]
  },
  {
   "cell_type": "code",
   "execution_count": null,
   "metadata": {},
   "outputs": [],
   "source": [
    "# add a new column to data_mac_ip and remove the extra white spaces\n",
    "data_mac_ip['Source'] = data_mac_ip['MAC Address'].str.strip()\n",
    "data_mac_ip.head()"
   ]
  },
  {
   "cell_type": "code",
   "execution_count": null,
   "metadata": {},
   "outputs": [],
   "source": [
    "# an example of pattern substitution using regular expressions (irrelevant to the project)\n",
    "import re\n",
    "string = \"08:00:06:0d:21:11\"\n",
    "pattern = r\"08:00:06:\"\n",
    "regexp = re.compile(pattern)\n",
    "regexp.sub(\"SiemensN_\", string)"
   ]
  },
  {
   "cell_type": "code",
   "execution_count": null,
   "metadata": {},
   "outputs": [],
   "source": [
    "# replace siemens mac address pattern in data_mac_ip's column\n",
    "pattern = r'08:00:06:'\n",
    "replacement = 'SiemensN_'\n",
    "data_mac_ip['Source'] = data_mac_ip['Source'].str.replace(pattern, replacement)\n",
    "data_mac_ip.head()"
   ]
  },
  {
   "cell_type": "code",
   "execution_count": null,
   "metadata": {},
   "outputs": [],
   "source": [
    "# replace siemens mac address pattern in data_mac_ip's column\n",
    "pattern = r'00:80:63:'\n",
    "replacement = 'RichardH_'\n",
    "data_mac_ip['Source'] = data_mac_ip['Source'].str.replace(pattern, replacement)"
   ]
  },
  {
   "cell_type": "code",
   "execution_count": null,
   "metadata": {},
   "outputs": [],
   "source": [
    "# create a dataframe for mac addresses and correspondent devices\n",
    "mac_device = data_mac_ip[['Source', 'Device']]\n",
    "mac_device"
   ]
  },
  {
   "cell_type": "code",
   "execution_count": null,
   "metadata": {},
   "outputs": [],
   "source": [
    "# convert the pandas dataframe into a dictionary (using T {transpose} and .to_dict() method)\n",
    "mac_device_dict = mac_device.set_index('Source').T.to_dict('list')"
   ]
  },
  {
   "cell_type": "code",
   "execution_count": null,
   "metadata": {},
   "outputs": [],
   "source": [
    "# show the type of the mac_device_dict\n",
    "type(mac_device_dict)"
   ]
  },
  {
   "cell_type": "code",
   "execution_count": null,
   "metadata": {},
   "outputs": [],
   "source": [
    "# display the mac_device_dict\n",
    "mac_device_dict"
   ]
  },
  {
   "cell_type": "code",
   "execution_count": null,
   "metadata": {},
   "outputs": [],
   "source": [
    "# add a column for host names of the mac address (using .map() method and a reference dictionary)\n",
    "data_bef['Device'] = data_bef['Source'].map(mac_device_dict)\n",
    "# remove the brackets\n",
    "data_bef['Device'] = data_bef['Device'].str[0]"
   ]
  },
  {
   "cell_type": "code",
   "execution_count": null,
   "metadata": {},
   "outputs": [],
   "source": [
    "# view the top results\n",
    "data_bef.head()"
   ]
  },
  {
   "cell_type": "code",
   "execution_count": null,
   "metadata": {},
   "outputs": [],
   "source": [
    "# view the unique values of 'Device' column in data_bef\n",
    "data_bef['Device'].unique()"
   ]
  },
  {
   "cell_type": "code",
   "execution_count": null,
   "metadata": {},
   "outputs": [],
   "source": [
    "# count the number of unique sources\n",
    "len(data_bef['Device'].unique())"
   ]
  },
  {
   "cell_type": "code",
   "execution_count": null,
   "metadata": {},
   "outputs": [],
   "source": [
    "# store data_bef into a csv file\n",
    "data_bef.to_csv('data_bef_sources.csv', sep = ',')"
   ]
  },
  {
   "cell_type": "code",
   "execution_count": null,
   "metadata": {},
   "outputs": [],
   "source": []
  }
 ],
 "metadata": {
  "kernelspec": {
   "display_name": "Python 3",
   "language": "python",
   "name": "python3"
  },
  "language_info": {
   "codemirror_mode": {
    "name": "ipython",
    "version": 3
   },
   "file_extension": ".py",
   "mimetype": "text/x-python",
   "name": "python",
   "nbconvert_exporter": "python",
   "pygments_lexer": "ipython3",
   "version": "3.7.6"
  }
 },
 "nbformat": 4,
 "nbformat_minor": 4
}
