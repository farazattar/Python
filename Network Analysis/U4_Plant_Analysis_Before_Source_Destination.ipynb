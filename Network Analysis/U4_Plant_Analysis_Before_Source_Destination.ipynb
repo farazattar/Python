{
 "cells": [
  {
   "cell_type": "code",
   "execution_count": null,
   "metadata": {},
   "outputs": [],
   "source": [
    "# import the required libraries\n",
    "import os\n",
    "import pandas as pd"
   ]
  },
  {
   "cell_type": "code",
   "execution_count": null,
   "metadata": {},
   "outputs": [],
   "source": [
    "# change directory to parent folder\n",
    "os.chdir('D:\\Faraz\\Lan')\n",
    "# read the dataset\n",
    "data_mac_ip = pd.read_csv('mac-ip.csv')\n",
    "# change directory to parent folder\n",
    "os.chdir('D:\\Faraz\\Logs')\n",
    "# change directory to specified folder\n",
    "os.chdir('Unit4_MapClock_Test(2024-02-07)')\n",
    "# read the dataset\n",
    "data_bef = pd.read_csv('U4_Plant_Before.csv')"
   ]
  },
  {
   "cell_type": "code",
   "execution_count": null,
   "metadata": {},
   "outputs": [],
   "source": [
    "# view the top results\n",
    "data_bef.head()"
   ]
  },
  {
   "cell_type": "code",
   "execution_count": null,
   "metadata": {},
   "outputs": [],
   "source": [
    "# view the unique values of 'Source' column in data_bef\n",
    "data_bef['Source'].unique()"
   ]
  },
  {
   "cell_type": "code",
   "execution_count": null,
   "metadata": {},
   "outputs": [],
   "source": [
    "# count the number of unique sources\n",
    "len(data_bef['Source'].unique())"
   ]
  },
  {
   "cell_type": "code",
   "execution_count": null,
   "metadata": {},
   "outputs": [],
   "source": [
    "# view the unique values of 'Destination' column in data_bef\n",
    "data_bef['Destination'].unique()"
   ]
  },
  {
   "cell_type": "code",
   "execution_count": null,
   "metadata": {},
   "outputs": [],
   "source": [
    "# count the number of unique destinations\n",
    "len(data_bef['Destination'].unique())"
   ]
  },
  {
   "cell_type": "code",
   "execution_count": null,
   "metadata": {},
   "outputs": [],
   "source": [
    "# view the top results\n",
    "data_mac_ip.head()"
   ]
  },
  {
   "cell_type": "code",
   "execution_count": null,
   "metadata": {},
   "outputs": [],
   "source": [
    "# add new columns to data_mac_ip and remove the extra white spaces\n",
    "data_mac_ip['Source'] = data_mac_ip['MAC Address'].str.strip()\n",
    "data_mac_ip.head()"
   ]
  },
  {
   "cell_type": "code",
   "execution_count": null,
   "metadata": {},
   "outputs": [],
   "source": [
    "# replace siemens mac address pattern in data_mac_ip's new columns\n",
    "pattern = r'08:00:06:'\n",
    "replacement = 'SiemensN_'\n",
    "data_mac_ip['Source'] = data_mac_ip['Source'].str.replace(pattern, replacement)\n",
    "data_mac_ip.head()"
   ]
  },
  {
   "cell_type": "code",
   "execution_count": null,
   "metadata": {},
   "outputs": [],
   "source": [
    "# replace Hirschmann mac address pattern in data_mac_ip's new columns\n",
    "pattern = r'00:80:63:'\n",
    "replacement = 'RichardH_'\n",
    "data_mac_ip['Source'] = data_mac_ip['Source'].str.replace(pattern, replacement)"
   ]
  },
  {
   "cell_type": "code",
   "execution_count": null,
   "metadata": {},
   "outputs": [],
   "source": [
    "# replace Hirschmann Broadcast pattern in data_mac_ip's new columns\n",
    "pattern = r'01:80:c2:00:00:00'\n",
    "replacement = 'Spanning-tree-(for-bridges)_00'\n",
    "data_mac_ip['Source'] = data_mac_ip['Source'].str.replace(pattern, replacement)"
   ]
  },
  {
   "cell_type": "code",
   "execution_count": null,
   "metadata": {},
   "outputs": [],
   "source": [
    "# replace Siemens SINEC broadcast pattern in data_mac_ip's new columns\n",
    "pattern = r'09:00:06:01:ff:ef'\n",
    "replacement = 'SiemensN_01:ff:ef'\n",
    "data_mac_ip['Source'] = data_mac_ip['Source'].str.replace(pattern, replacement)"
   ]
  },
  {
   "cell_type": "code",
   "execution_count": null,
   "metadata": {},
   "outputs": [],
   "source": [
    "# create a dataframe for mac addresses and correspondent devices\n",
    "mac_device = data_mac_ip[['Source', 'Device']]\n",
    "mac_device"
   ]
  },
  {
   "cell_type": "code",
   "execution_count": null,
   "metadata": {},
   "outputs": [],
   "source": [
    "# convert the pandas dataframe into a dictionary (using T {transpose} and .to_dict() method)\n",
    "mac_device_dict = mac_device.set_index('Source').T.to_dict('list')"
   ]
  },
  {
   "cell_type": "code",
   "execution_count": null,
   "metadata": {},
   "outputs": [],
   "source": [
    "# show the type of the mac_device_dict\n",
    "type(mac_device_dict)"
   ]
  },
  {
   "cell_type": "code",
   "execution_count": null,
   "metadata": {},
   "outputs": [],
   "source": [
    "# display the mac_device_dict\n",
    "mac_device_dict"
   ]
  },
  {
   "cell_type": "code",
   "execution_count": null,
   "metadata": {},
   "outputs": [],
   "source": [
    "# create a dataframe for IPs and correspondent devices\n",
    "ip_device = data_mac_ip[['IP', 'Device']]\n",
    "ip_device"
   ]
  },
  {
   "cell_type": "code",
   "execution_count": null,
   "metadata": {},
   "outputs": [],
   "source": [
    "# convert the pandas dataframe into a dictionary (using T {transpose} and .to_dict() method)\n",
    "ip_device_dict = ip_device.set_index('IP').T.to_dict('list')"
   ]
  },
  {
   "cell_type": "code",
   "execution_count": null,
   "metadata": {},
   "outputs": [],
   "source": [
    "# show the type of the ip_device_dict\n",
    "type(ip_device_dict)"
   ]
  },
  {
   "cell_type": "code",
   "execution_count": null,
   "metadata": {},
   "outputs": [],
   "source": [
    "# display the ip_device_dict\n",
    "ip_device_dict"
   ]
  },
  {
   "cell_type": "code",
   "execution_count": null,
   "metadata": {},
   "outputs": [],
   "source": [
    "# add a column for host names of the mac address (using .map() method and a reference dictionary)\n",
    "data_bef['Device_mac_Source'] = data_bef['Source'].map(mac_device_dict)\n",
    "# remove the brackets\n",
    "data_bef['Device_mac_Source'] = data_bef['Device_mac_Source'].str[0]"
   ]
  },
  {
   "cell_type": "code",
   "execution_count": null,
   "metadata": {},
   "outputs": [],
   "source": [
    "# add a column for host names of the mac address (using .map() method and a reference dictionary)\n",
    "data_bef['Device_mac_Destination'] = data_bef['Destination'].map(mac_device_dict)\n",
    "# remove the brackets\n",
    "data_bef['Device_mac_Destination'] = data_bef['Device_mac_Destination'].str[0]"
   ]
  },
  {
   "cell_type": "code",
   "execution_count": null,
   "metadata": {},
   "outputs": [],
   "source": [
    "# view the top results\n",
    "data_bef.head()"
   ]
  },
  {
   "cell_type": "code",
   "execution_count": null,
   "metadata": {},
   "outputs": [],
   "source": [
    "# add a column for host names of the IP address (using .map() method and a reference dictionary)\n",
    "data_bef['Device_ip_Source'] = data_bef['Source'].map(ip_device_dict)\n",
    "# remove the brackets\n",
    "data_bef['Device_ip_Source'] = data_bef['Device_ip_Source'].str[0]"
   ]
  },
  {
   "cell_type": "code",
   "execution_count": null,
   "metadata": {},
   "outputs": [],
   "source": [
    "# add a column for host names of the IP address (using .map() method and a reference dictionary)\n",
    "data_bef['Device_ip_Destination'] = data_bef['Destination'].map(ip_device_dict)\n",
    "# remove the brackets\n",
    "data_bef['Device_ip_Destination'] = data_bef['Device_ip_Destination'].str[0]"
   ]
  },
  {
   "cell_type": "code",
   "execution_count": null,
   "metadata": {},
   "outputs": [],
   "source": [
    "# view the top results\n",
    "data_bef.head()"
   ]
  },
  {
   "cell_type": "code",
   "execution_count": null,
   "metadata": {},
   "outputs": [],
   "source": [
    "# Combine Devic_mac and Device_ip columns\n",
    "data_bef['Device_Source'] = data_bef['Device_mac_Source'].combine_first(data_bef['Device_ip_Source'])"
   ]
  },
  {
   "cell_type": "code",
   "execution_count": null,
   "metadata": {},
   "outputs": [],
   "source": [
    "# Combine Devic_mac and Device_ip columns\n",
    "data_bef['Device_Destination'] = data_bef['Device_mac_Destination'].combine_first(data_bef['Device_ip_Destination'])"
   ]
  },
  {
   "cell_type": "code",
   "execution_count": null,
   "metadata": {},
   "outputs": [],
   "source": [
    "# view the top results\n",
    "data_bef.head()"
   ]
  },
  {
   "cell_type": "code",
   "execution_count": null,
   "metadata": {},
   "outputs": [],
   "source": [
    "# view the unique values of 'Device' column in data_bef\n",
    "data_bef['Device_Source'].unique()"
   ]
  },
  {
   "cell_type": "code",
   "execution_count": null,
   "metadata": {},
   "outputs": [],
   "source": [
    "# count the number of unique sources\n",
    "len(data_bef['Device_Source'].unique())"
   ]
  },
  {
   "cell_type": "code",
   "execution_count": null,
   "metadata": {},
   "outputs": [],
   "source": [
    "# view the unique values of 'Device' column in data_bef\n",
    "data_bef['Device_Destination'].unique()"
   ]
  },
  {
   "cell_type": "code",
   "execution_count": null,
   "metadata": {},
   "outputs": [],
   "source": [
    "# count the number of unique sources\n",
    "len(data_bef['Device_Destination'].unique())"
   ]
  },
  {
   "cell_type": "code",
   "execution_count": null,
   "metadata": {},
   "outputs": [],
   "source": [
    "# store data_bef into a csv file\n",
    "data_bef.to_csv('data_bef.csv', sep = ',')"
   ]
  },
  {
   "cell_type": "code",
   "execution_count": null,
   "metadata": {},
   "outputs": [],
   "source": []
  }
 ],
 "metadata": {
  "kernelspec": {
   "display_name": "Python 3",
   "language": "python",
   "name": "python3"
  },
  "language_info": {
   "codemirror_mode": {
    "name": "ipython",
    "version": 3
   },
   "file_extension": ".py",
   "mimetype": "text/x-python",
   "name": "python",
   "nbconvert_exporter": "python",
   "pygments_lexer": "ipython3",
   "version": "3.7.6"
  }
 },
 "nbformat": 4,
 "nbformat_minor": 4
}
